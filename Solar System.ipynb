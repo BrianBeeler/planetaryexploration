{
 "cells": [
  {
   "cell_type": "code",
   "execution_count": null,
   "metadata": {},
   "outputs": [],
   "source": [
    "planet_names = ['Mercury', 'Venus', 'Earth', 'Mars', 'Jupiter', 'Saturn', 'Uranus', 'Neptune']\n",
    "planet_mass = [0.0553, 0.815, 1, 0.107, 317.8, 95.2, 14.5, 17.1]\n",
    "planet_temp = [260, 480, 15, 60, 150, 170, 200, 210]\n",
    "\n",
    "\n",
    "# Celsious to Kelvin Conversion: T = Tc + 273.15\n",
    "planet_temp_k = [ p_t + 273.15 for \n",
    "\n"
   ]
  }
 ],
 "metadata": {
  "kernelspec": {
   "display_name": "Python 3",
   "language": "python",
   "name": "python3"
  },
  "language_info": {
   "codemirror_mode": {
    "name": "ipython",
    "version": 3
   },
   "file_extension": ".py",
   "mimetype": "text/x-python",
   "name": "python",
   "nbconvert_exporter": "python",
   "pygments_lexer": "ipython3",
   "version": "3.7.6"
  }
 },
 "nbformat": 4,
 "nbformat_minor": 4
}
